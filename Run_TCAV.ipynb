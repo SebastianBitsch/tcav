{
  "cells": [
    {
      "cell_type": "markdown",
      "metadata": {
        "id": "v88fM4ciYYde"
      },
      "source": [
        "# Running TCAV"
      ]
    },
    {
      "cell_type": "markdown",
      "metadata": {
        "id": "5-RlU8wNYYdj"
      },
      "source": [
        "This notebook walks you through an example application of the TCAV library step-by-step to understand which human interpretable concepts (e.g. stripes, dots, zigzags) are important to the image classifier GoogleNet's (a.k.a. Inception v1) prediction of Zebras."
      ]
    },
    {
      "cell_type": "markdown",
      "metadata": {
        "id": "J1zIj8-aYYdj"
      },
      "source": [
        "## Install required packages\n",
        "\n",
        "To run through this notebook in the interim, you are encouraged to utilize a `virtualenv` or `conda` environment for installing and working with the required packages to avoid any dependency and compatability issues with different versions of packages."
      ]
    },
    {
      "cell_type": "code",
      "execution_count": 16,
      "metadata": {
        "id": "sIHww5CuYYdk",
        "tags": []
      },
      "outputs": [],
      "source": [
        "# pip install tensorflow\n",
        "# pip install tcav"
      ]
    },
    {
      "cell_type": "markdown",
      "metadata": {
        "id": "-NT91qkMYYdk"
      },
      "source": [
        "## Download example models and images\n",
        "\n",
        "Open a terminal and run the following commands:\n",
        "\n",
        "```\n",
        "cd tcav/tcav_examples/image_models/imagenet\n",
        "\n",
        "python download_and_make_datasets.py --source_dir=YOUR_PATH --number_of_images_per_folder=50 --number_of_random_folders=3\n",
        "```\n",
        "\n",
        "This script will download the following content into separate folders into a directory you specify with the `--source_dir=` argument:\n",
        "\n",
        "**Images**\n",
        "*  ImageNet images for the target Zebra class\n",
        "*  [Broden dataset](http://netdissect.csail.mit.edu/) images for three concepts (e.g. striped, dotted, zigzagged)\n",
        "*  Random ImageNet class images used by TCAV for hypothesis testing of important concepts\n",
        "\n",
        "**Models**\n",
        "*  [Inception 5h model](https://github.com/Hvass-Labs/TensorFlow-Tutorials/blob/master/inception5h.py)\n",
        "*  [Mobilenet V2 model](https://github.com/tensorflow/models/blob/master/research/slim/nets/mobilenet_v1.md)"
      ]
    },
    {
      "cell_type": "markdown",
      "metadata": {
        "id": "rlrLUu4zYYdl"
      },
      "source": [
        "## Import extensions and libraries"
      ]
    },
    {
      "cell_type": "code",
      "execution_count": 17,
      "metadata": {
        "id": "sS1ZjSZjYYdl"
      },
      "outputs": [],
      "source": [
        "#%load_ext autoreload\n",
        "#%autoreload 2"
      ]
    },
    {
      "cell_type": "code",
      "execution_count": 18,
      "metadata": {
        "id": "U4yP9kDlYYdl"
      },
      "outputs": [],
      "source": [
        "import tcav.activation_generator as act_gen\n",
        "import tcav.cav as cav\n",
        "import tcav.model  as model\n",
        "import tcav.tcav as tcav\n",
        "import tcav.utils as utils\n",
        "import tcav.utils_plot as utils_plot # utils_plot requires matplotlib\n",
        "import os \n",
        "import tensorflow as tf"
      ]
    },
    {
      "cell_type": "markdown",
      "metadata": {
        "id": "yitpnXmEYYdm"
      },
      "source": [
        "## TCAV step-by-step\n",
        "\n",
        "You will walk through the following steps below:\n",
        "\n",
        "1. **Store example images in each folder** (you have this if you ran the above)\n",
        " * images for each concept\n",
        " * images for the class/labels of interest\n",
        " * random images that will be negative examples when learning CAVs (images that probably don't belong to any concepts)\n",
        "2. **Write a model wrapper** (below uses example from tcav/model.py)\n",
        " * an instance of  ModelWrapper abstract class (in model.py). This tells TCAV class (tcav.py) how to communicate with your model (e.g., getting internal tensors)\n",
        "3. **Retrieve model activations** (below uses example from tcav/activation_generator.py)\n",
        " * an instance of ActivationGeneratorInterface that tells TCAV class how to load example data and how to get activations from the model\n",
        "4. Run TCAV and visualize scores for important concepts."
      ]
    },
    {
      "cell_type": "markdown",
      "metadata": {
        "id": "zjjLK3pBYYdm"
      },
      "source": [
        "## Step 1: Store concept and target class images to local folders\n",
        "\n",
        "... and tell TCAV where they are.\n",
        "\n",
        "**source_dir**: where images of concepts, target class and random images (negative samples when learning CAVs) live. Each should be a sub-folder within this directory.\n",
        "\n",
        "Note that random image directories can be in any name. In this example, we are using `random500_0`, `random500_1`,.. for an arbitrary reason. \n",
        "\n",
        "You need roughly 50-200 images per concept and target class (10-20 pictures also tend to work, but 200 is pretty safe).\n",
        "\n",
        "\n",
        "**cav_dir**: directory to store CAVs (`None` if you don't want to store)\n",
        "\n",
        "**target, concept**: names of the target class (that you want to investigate) and concepts (strings) - these are folder names in source_dir\n",
        "\n",
        "**bottlenecks**: list of bottleneck names (intermediate layers in your model) that you want to use for TCAV. These names are defined in the model wrapper below.\n",
        "\n"
      ]
    },
    {
      "cell_type": "code",
      "execution_count": 19,
      "metadata": {
        "id": "EHabMnMNYYdm",
        "tags": []
      },
      "outputs": [],
      "source": [
        "#print ('REMEMBER TO UPDATE YOUR_PATH (where images, models are)!')\n",
        "\n",
        "# This is the name of your model wrapper (InceptionV3 and GoogleNet are provided in model.py)\n",
        "model_to_run = 'GoogleNet'  \n",
        "\n",
        "\n",
        "working_dir = \"/Users/sebastianbitsch/Desktop/DeepLearning/tcav/tcav\"\n",
        "# where activations are stored (only if your act_gen_wrapper does so)\n",
        "activation_dir =  working_dir+ '/activations/'\n",
        "# where CAVs are stored. \n",
        "# You can say None if you don't wish to store any.\n",
        "cav_dir = working_dir + '/cavs/'\n",
        "# where the images live.\n",
        "\n",
        "source_dir = '/Users/sebastianbitsch/Desktop/DeepLearning/tcav/tcav/tcav/tcav_examples/image_models/imagenet/folder01'\n",
        "bottlenecks = ['mixed3a','mixed3b','mixed4a','mixed4b','mixed4c','mixed4d','mixed4e','mixed5a','mixed5b']\n",
        "      \n",
        "utils.make_dir_if_not_exists(activation_dir)\n",
        "utils.make_dir_if_not_exists(working_dir)\n",
        "utils.make_dir_if_not_exists(cav_dir)\n",
        "\n",
        "# this is a regularizer penalty parameter for linear classifier to get CAVs. \n",
        "alphas = [0.1]   \n",
        "\n",
        "target = 'zebra'  \n",
        "concepts = [\"dotted\",\"striped\",\"zigzagged\"]  \n"
      ]
    },
    {
      "cell_type": "markdown",
      "metadata": {
        "id": "u_DfQqsAYYdn"
      },
      "source": [
        "## Step 2: Write your model wrapper\n",
        "\n",
        "The next step is to tell TCAV how to communicate with your model. See `model.GoogleNetWrapper_public ` for details.\n",
        "\n",
        "You can define a subclass of ModelWrapper abstract class to do this. Let me walk you thru what each function does (tho they are pretty self-explanatory).  This wrapper includes a lot of the functions that you already have, for example, `get_prediction`.\n",
        "\n",
        "### 2.1: Tensors from the graph: bottleneck tensors and ends\n",
        "First, store your bottleneck tensors in `self.bottlenecks_tensors` as a dictionary. You only need bottlenecks that you are interested in running TCAV with. Similarly, fill in `self.ends` dictionary with `input`, `logit` and `prediction` tensors.\n",
        "\n",
        "### 2.2: Define loss\n",
        "Get your loss tensor, and assigned it to `self.loss`. This is what TCAV uses to take directional derivatives. \n",
        "\n",
        "While doing so, you would also want to set \n",
        "```python\n",
        "self.y_input \n",
        "```\n",
        "this simply is a tensorflow place holder for the target index in the logit layer (e.g., 0 index for a dog, 1 for a cat).\n",
        "For multi-class classification, typically something like this works:\n",
        "\n",
        "```python\n",
        "self.y_input = tf.placeholder(tf.int64, shape=[None])\n",
        "```\n",
        "\n",
        "For example, for a multiclass classifier, something like below would work. \n",
        "\n",
        "```python\n",
        "    # Construct gradient ops.\n",
        "    with g.as_default():\n",
        "      self.y_input = tf.placeholder(tf.int64, shape=[None])\n",
        "\n",
        "      self.pred = tf.expand_dims(self.ends['prediction'][0], 0)\n",
        "\n",
        "      self.loss = tf.reduce_mean(\n",
        "          tf.nn.softmax_cross_entropy_with_logits(\n",
        "              labels=tf.one_hot(self.y_input, len(self.labels)),\n",
        "              logits=self.pred))\n",
        "    self._make_gradient_tensors()\n",
        "```\n",
        "\n",
        "### 2.3: Call _make_gradient_tensors in __init__() of your wrapper\n",
        "```python\n",
        "_make_gradient_tensors()  \n",
        "```\n",
        "does what you expect - given the loss and bottleneck tensors defined above, it adds gradient tensors.\n",
        "\n",
        "### 2.4: Fill in labels, image shapes and a model name.\n",
        "Get the mapping from labels (strings) to indice in the logit layer (int) in a dictionary format.\n",
        "\n",
        "```python\n",
        "def id_to_label(self, idx)\n",
        "def label_to_id(self, label)\n",
        "```\n",
        "\n",
        "Set your input image shape at  `self.image_shape`\n",
        "\n",
        "\n",
        "Set your model name to `self.model_name`\n",
        "\n",
        "You are done with writing the model wrapper! See the two example model wrapers, InceptionV3 and Googlenet in `tcav/model.py`."
      ]
    },
    {
      "cell_type": "code",
      "execution_count": 20,
      "metadata": {
        "id": "hH-YQiEIYYdn",
        "tags": []
      },
      "outputs": [
        {
          "name": "stdout",
          "output_type": "stream",
          "text": [
            "INFO:tensorflow:running zebra ['random500_7', 'random500_10']\n",
            "INFO:tensorflow:Loaded /Users/sebastianbitsch/Desktop/DeepLearning/tcav/tcav/activations/acts_random500_7_mixed4c shape (6, 14, 14, 512)\n",
            "INFO:tensorflow:Loaded /Users/sebastianbitsch/Desktop/DeepLearning/tcav/tcav/activations/acts_random500_10_mixed4c shape (9, 14, 14, 512)\n",
            "INFO:tensorflow:Loaded /Users/sebastianbitsch/Desktop/DeepLearning/tcav/tcav/activations/acts_zebra_mixed4c shape (9, 14, 14, 512)\n",
            "INFO:tensorflow:CAV already exists: /Users/sebastianbitsch/Desktop/DeepLearning/tcav/tcav/cavs/random500_7-random500_10-mixed4c-linear-0.1.pkl\n",
            "INFO:tensorflow:CAV accuracies: {'random500_7': 1.0, 'random500_10': 0.0, 'overall': 0.5}\n"
          ]
        }
      ],
      "source": [
        "# Create TensorFlow session.\n",
        "sess = utils.create_session()\n",
        "\n",
        "# GRAPH_PATH is where the trained model is stored.\n",
        "GRAPH_PATH = \"/Users/sebastianbitsch/Desktop/DeepLearning/tcav/tcav/tcav/tcav_examples/image_models/imagenet/folder01/inception5h/tensorflow_inception_graph.pb\"\n",
        "# LABEL_PATH is where the labels are stored. Each line contains one class, and they are ordered with respect to their index in \n",
        "# the logit layer. (yes, id_to_label function in the model wrapper reads from this file.)\n",
        "# For example, imagenet_comp_graph_label_strings.txt looks like:\n",
        "# dummy                                                                                      \n",
        "# kit fox\n",
        "# English setter\n",
        "# Siberian husky ...\n",
        "\n",
        "LABEL_PATH = \"/Users/sebastianbitsch/Desktop/DeepLearning/tcav/tcav/tcav/tcav_examples/image_models/imagenet/folder01/inception5h/imagenet_comp_graph_label_strings.txt\"\n",
        "\n",
        "mymodel = model.GoogleNetWrapper_public(sess,\n",
        "                                        GRAPH_PATH,\n",
        "                                        LABEL_PATH)"
      ]
    },
    {
      "cell_type": "markdown",
      "metadata": {
        "id": "yY5kXbVAYYdo"
      },
      "source": [
        "## Step 3: Implement a class that returns activations (maybe with caching!)\n",
        "\n",
        "Lastly, you will implement a class of the ActivationGenerationInterface which TCAV uses to load example data for a given concept or target, call into your model wrapper and return activations. I pulled out this logic outside of mymodel because this step often takes the longest. By making it modular, you can cache your activations and/or parallelize your computations, as I have done in `ActivationGeneratorBase.process_and_load_activations` in `activation_generator.py`.\n",
        "\n",
        "\n",
        "The `process_and_load_activations` method of the activation generator must return a dictionary of activations that has concept or target name as  a first key, and the bottleneck name as a second key. So something like:\n",
        "\n",
        "```python\n",
        "{concept1: {bottleneck1: [[0.2, 0.1, ....]]},\n",
        "concept2: {bottleneck1: [[0.1, 0.02, ....]]},\n",
        "target1: {bottleneck1: [[0.02, 0.99, ....]]}\n",
        "```\n"
      ]
    },
    {
      "cell_type": "code",
      "execution_count": 21,
      "metadata": {
        "id": "ZmSyFxQbYYdo"
      },
      "outputs": [],
      "source": [
        "act_generator = act_gen.ImageActivationGenerator(mymodel, source_dir, activation_dir, max_examples=100)"
      ]
    },
    {
      "cell_type": "markdown",
      "metadata": {
        "id": "uABCWhp8YYdo"
      },
      "source": [
        "## Step 4: Run TCAV and visualize concept importance\n",
        "\n",
        "You are now ready to run TCAV! Let's do it.\n",
        "\n",
        "**num_random_exp**: number of experiments to confirm meaningful concept direction. TCAV will search for this many folders named `random500_0`, `random500_1`, etc. You can alternatively set the `random_concepts` keyword to be a list of folders of random concepts. Run at least 10-20 for meaningful tests. \n",
        "\n",
        "**random_counterpart**: as well as the above, you can optionally supply a single folder with random images as the \"positive set\" for statistical testing. Reduces computation time at the cost of less reliable random TCAV scores.\n"
      ]
    },
    {
      "cell_type": "code",
      "execution_count": null,
      "metadata": {
        "id": "F2FVOGSvYYdp",
        "scrolled": false,
        "tags": []
      },
      "outputs": [],
      "source": [
        "import absl\n",
        "\n",
        "absl.logging.set_verbosity(0)\n",
        "num_random_exp = 3\n",
        "## only running num_random_exp = 10 to save some time. The paper number are reported for 500 random runs. \n",
        "mytcav = tcav.TCAV(sess,\n",
        "                   target,\n",
        "                   concepts,\n",
        "                   bottlenecks,\n",
        "                   act_generator,\n",
        "                   alphas,\n",
        "                   cav_dir=cav_dir,\n",
        "                   num_random_exp=num_random_exp)\n",
        "print('This may take a while... Go get coffee!')\n",
        "results = mytcav.run(run_parallel=True)\n",
        "print('done!')"
      ]
    },
    {
      "cell_type": "code",
      "execution_count": 24,
      "metadata": {
        "id": "hjKVKa80YYdp",
        "outputId": "ff3cbebe-4edd-4342-cede-24dc10ce9d99",
        "scrolled": false,
        "tags": []
      },
      "outputs": [
        {
          "name": "stdout",
          "output_type": "stream",
          "text": [
            "Class = zebra\n",
            "  Concept = dotted\n",
            "    Bottleneck = mixed3a. TCAV Score = 0.35 (+- 0.04), random was 0.48 (+- 0.12). p-val = 0.158 (not significant)\n",
            "    Bottleneck = mixed3b. TCAV Score = 0.25 (+- 0.11), random was 0.50 (+- 0.19). p-val = 0.115 (not significant)\n",
            "    Bottleneck = mixed4a. TCAV Score = 0.36 (+- 0.03), random was 0.60 (+- 0.16). p-val = 0.066 (not significant)\n",
            "    Bottleneck = mixed4b. TCAV Score = 0.18 (+- 0.07), random was 0.44 (+- 0.14). p-val = 0.036 (significant)\n",
            "    Bottleneck = mixed4c. TCAV Score = 0.59 (+- 0.28), random was 0.48 (+- 0.32). p-val = 0.664 (not significant)\n",
            "    Bottleneck = mixed4d. TCAV Score = 0.64 (+- 0.11), random was 0.53 (+- 0.30). p-val = 0.630 (not significant)\n",
            "    Bottleneck = mixed4e. TCAV Score = 0.62 (+- 0.27), random was 0.41 (+- 0.31). p-val = 0.420 (not significant)\n",
            "    Bottleneck = mixed5a. TCAV Score = 0.81 (+- 0.14), random was 0.37 (+- 0.28). p-val = 0.057 (not significant)\n",
            "    Bottleneck = mixed5b. TCAV Score = 0.38 (+- 0.19), random was 0.37 (+- 0.29). p-val = 0.964 (not significant)\n",
            "  Concept = striped\n",
            "    Bottleneck = mixed3a. TCAV Score = 0.46 (+- 0.01), random was 0.48 (+- 0.12). p-val = 0.810 (not significant)\n",
            "    Bottleneck = mixed3b. TCAV Score = 0.60 (+- 0.09), random was 0.50 (+- 0.19). p-val = 0.487 (not significant)\n",
            "    Bottleneck = mixed4a. TCAV Score = 0.54 (+- 0.13), random was 0.60 (+- 0.16). p-val = 0.649 (not significant)\n",
            "    Bottleneck = mixed4b. TCAV Score = 0.75 (+- 0.14), random was 0.44 (+- 0.14). p-val = 0.028 (significant)\n",
            "    Bottleneck = mixed4c. TCAV Score = 0.89 (+- 0.00), random was 0.48 (+- 0.32). p-val = 0.092 (not significant)\n",
            "    Bottleneck = mixed4d. TCAV Score = 0.85 (+- 0.19), random was 0.53 (+- 0.30). p-val = 0.184 (not significant)\n",
            "    Bottleneck = mixed4e. TCAV Score = 0.80 (+- 0.28), random was 0.41 (+- 0.31). p-val = 0.150 (not significant)\n",
            "    Bottleneck = mixed5a. TCAV Score = 0.95 (+- 0.07), random was 0.37 (+- 0.28). p-val = 0.016 (significant)\n",
            "    Bottleneck = mixed5b. TCAV Score = 1.00 (+- 0.00), random was 0.37 (+- 0.29). p-val = 0.013 (significant)\n",
            "  Concept = zigzagged\n",
            "    Bottleneck = mixed3a. TCAV Score = 0.37 (+- 0.03), random was 0.48 (+- 0.12). p-val = 0.216 (not significant)\n",
            "    Bottleneck = mixed3b. TCAV Score = 0.42 (+- 0.05), random was 0.50 (+- 0.19). p-val = 0.562 (not significant)\n",
            "    Bottleneck = mixed4a. TCAV Score = 0.30 (+- 0.04), random was 0.60 (+- 0.16). p-val = 0.031 (significant)\n",
            "    Bottleneck = mixed4b. TCAV Score = 0.71 (+- 0.06), random was 0.44 (+- 0.14). p-val = 0.030 (significant)\n",
            "    Bottleneck = mixed4c. TCAV Score = 0.85 (+- 0.10), random was 0.48 (+- 0.32). p-val = 0.127 (not significant)\n",
            "    Bottleneck = mixed4d. TCAV Score = 0.75 (+- 0.06), random was 0.53 (+- 0.30). p-val = 0.327 (not significant)\n",
            "    Bottleneck = mixed4e. TCAV Score = 0.75 (+- 0.14), random was 0.41 (+- 0.31). p-val = 0.167 (not significant)\n",
            "    Bottleneck = mixed5a. TCAV Score = 0.93 (+- 0.08), random was 0.37 (+- 0.28). p-val = 0.019 (significant)\n",
            "    Bottleneck = mixed5b. TCAV Score = 0.37 (+- 0.40), random was 0.37 (+- 0.29). p-val = 1.000 (not significant)\n",
            "{'mixed3a': {'bn_vals': [0.01, 0.01, 0.01], 'bn_stds': [0, 0, 0], 'significant': [False, False, False]}, 'mixed3b': {'bn_vals': [0.01, 0.01, 0.01], 'bn_stds': [0, 0, 0], 'significant': [False, False, False]}, 'mixed4a': {'bn_vals': [0.01, 0.01, 0.303921568627451], 'bn_stds': [0, 0, 0.03668291555660728], 'significant': [False, False, True]}, 'mixed4b': {'bn_vals': [0.17647058823529413, 0.7549019607843137, 0.7058823529411765], 'bn_stds': [0.07204381596421112, 0.14071274602360118, 0.06353667351380253], 'significant': [True, True, True]}, 'mixed4c': {'bn_vals': [0.01, 0.01, 0.01], 'bn_stds': [0, 0, 0], 'significant': [False, False, False]}, 'mixed4d': {'bn_vals': [0.01, 0.01, 0.01], 'bn_stds': [0, 0, 0], 'significant': [False, False, False]}, 'mixed4e': {'bn_vals': [0.01, 0.01, 0.01], 'bn_stds': [0, 0, 0], 'significant': [False, False, False]}, 'mixed5a': {'bn_vals': [0.01, 0.9509803921568628, 0.9313725490196078], 'bn_stds': [0, 0.06932419423397526, 0.07719615562756679], 'significant': [False, True, True]}, 'mixed5b': {'bn_vals': [0.01, 1.0, 0.01], 'bn_stds': [0, 0.0, 0], 'significant': [False, True, False]}}\n"
          ]
        },
        {
          "data": {
            "image/png": "[encoded data removed]",
            "text/plain": [
              "<Figure size 432x288 with 1 Axes>"
            ]
          },
          "metadata": {
            "needs_background": "light"
          },
          "output_type": "display_data"
        }
      ],
      "source": [
        "utils_plot.plot_results(results, num_random_exp=num_random_exp)"
      ]
    },
    {
      "cell_type": "code",
      "execution_count": 25,
      "metadata": {},
      "outputs": [],
      "source": [
        "import json\n",
        "\n",
        "with open(\"results_50im_3exp.json\", \"w\") as outfile:\n",
        "    json.dump(results, outfile)\n"
      ]
    }
  ],
  "metadata": {
    "colab": {
      "name": "Run TCAV.ipynb",
      "provenance": []
    },
    "kernelspec": {
      "display_name": "Python 3.9.6",
      "language": "python",
      "name": "python3"
    },
    "language_info": {
      "codemirror_mode": {
        "name": "ipython",
        "version": 3
      },
      "file_extension": ".py",
      "mimetype": "text/x-python",
      "name": "python",
      "nbconvert_exporter": "python",
      "pygments_lexer": "ipython3",
      "version": "3.9.6"
    },
    "vscode": {
      "interpreter": {
        "hash": "c6e4e9f98eb68ad3b7c296f83d20e6de614cb42e90992a65aa266555a3137d0d"
      }
    }
  },
  "nbformat": 4,
  "nbformat_minor": 0
}
